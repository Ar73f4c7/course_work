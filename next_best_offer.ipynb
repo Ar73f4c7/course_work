{
 "cells": [
  {
   "cell_type": "code",
   "execution_count": 19,
   "id": "eb218b41-7f5d-4047-b16d-369d421a6f5f",
   "metadata": {},
   "outputs": [],
   "source": [
    "import pandas as pd\n",
    "import numpy as np"
   ]
  },
  {
   "cell_type": "code",
   "execution_count": null,
   "id": "f0b22e37-9e86-417a-9448-58cd38f54715",
   "metadata": {},
   "outputs": [],
   "source": [
    "df = pd.read_csv('processed_data.csv')"
   ]
  },
  {
   "cell_type": "code",
   "execution_count": 7,
   "id": "d8bc7527-2a09-40b6-9716-0a59e247d2ae",
   "metadata": {},
   "outputs": [
    {
     "data": {
      "text/plain": [
       "Index(['Дата', 'ДатаДоставки', 'НомерЗаказаНаСайте', 'НовыйСтатус',\n",
       "       'СуммаЗаказаНаСайте', 'СуммаДокумента', 'МетодДоставки', 'ФормаОплаты',\n",
       "       'Регион', 'Группа2', 'Группа3', 'Группа4', 'Тип', 'Номенклатура',\n",
       "       'ТипТовара', 'Отменено', 'ПричинаОтмены', 'Количество', 'Цена',\n",
       "       'СуммаСтроки', 'ЦенаЗакупки', 'МесяцДатыЗаказа', 'ГодДатыЗаказа',\n",
       "       'ПВЗ_код', 'Статус', 'Гео', 'СуммаУслуг', 'СуммаДоставки',\n",
       "       'КоличествоПроданоКлиенту', 'ДатаЗаказаНаСайте', 'Телефон_new',\n",
       "       'ЭлектроннаяПочта_new', 'Клиент', 'ГородМагазина', 'Полученная маржа',\n",
       "       'Размещенная маржа', 'Товар выкуплен', 'Товар выкуплен частично',\n",
       "       'Товар не выкуплен', 'Товар размещен', 'Остаток', 'Пол клиента',\n",
       "       'Размещенная выручка', 'Полученная выручка'],\n",
       "      dtype='object')"
      ]
     },
     "execution_count": 7,
     "metadata": {},
     "output_type": "execute_result"
    }
   ],
   "source": [
    "df.columns"
   ]
  },
  {
   "cell_type": "code",
   "execution_count": 9,
   "id": "1f136ae4-0f15-4530-bac9-9f805f15cfca",
   "metadata": {},
   "outputs": [],
   "source": [
    "dataset = df[['Телефон_new', 'Группа4']]"
   ]
  },
  {
   "cell_type": "code",
   "execution_count": 12,
   "id": "1a68d76b-907d-4062-bc1e-51902ab79ab1",
   "metadata": {},
   "outputs": [],
   "source": [
    "ds_clients, clients_names = pd.factorize(dataset['Телефон_new'])"
   ]
  },
  {
   "cell_type": "code",
   "execution_count": 13,
   "id": "9e28ebe0-e572-4f0f-b8de-4e7345050d27",
   "metadata": {},
   "outputs": [
    {
     "data": {
      "text/plain": [
       "221921"
      ]
     },
     "execution_count": 13,
     "metadata": {},
     "output_type": "execute_result"
    }
   ],
   "source": [
    "len(clients_names)"
   ]
  },
  {
   "cell_type": "code",
   "execution_count": 14,
   "id": "d372611e-c01c-49cc-adbb-ed8028e7fc40",
   "metadata": {},
   "outputs": [
    {
     "data": {
      "text/plain": [
       "1346913"
      ]
     },
     "execution_count": 14,
     "metadata": {},
     "output_type": "execute_result"
    }
   ],
   "source": [
    "len(ds_clients)"
   ]
  },
  {
   "cell_type": "code",
   "execution_count": 15,
   "id": "0839a839-340a-47d2-a73a-db7bc67932ca",
   "metadata": {},
   "outputs": [],
   "source": [
    "ds_goods, goods_names = pd.factorize(dataset['Группа4'])"
   ]
  },
  {
   "cell_type": "code",
   "execution_count": 17,
   "id": "1fce5ff3-eac7-49b3-9419-e42ca847afe5",
   "metadata": {},
   "outputs": [
    {
     "data": {
      "text/plain": [
       "380.10608291625977"
      ]
     },
     "execution_count": 17,
     "metadata": {},
     "output_type": "execute_result"
    }
   ],
   "source": [
    "len(goods_names) * len(clients_names) * 4 / 1024 / 1024"
   ]
  },
  {
   "cell_type": "code",
   "execution_count": 21,
   "id": "5d5f9c17-c86b-452c-a6ee-f8d1f2db66e2",
   "metadata": {},
   "outputs": [],
   "source": [
    "user_items = np.zeros(shape=(len(clients_names), len(goods_names)))"
   ]
  },
  {
   "cell_type": "code",
   "execution_count": 24,
   "id": "2ecee59a-69f2-45f4-8a93-b55c6b1b1232",
   "metadata": {},
   "outputs": [],
   "source": [
    "user_items[ds_clients, ds_goods] = 1"
   ]
  },
  {
   "cell_type": "code",
   "execution_count": 27,
   "id": "5ff0ef0f-5b7f-4671-868e-ab20b176e623",
   "metadata": {},
   "outputs": [
    {
     "ename": "AttributeError",
     "evalue": "'numpy.ndarray' object has no attribute 'tocsr'",
     "output_type": "error",
     "traceback": [
      "\u001b[0;31m---------------------------------------------------------------------------\u001b[0m",
      "\u001b[0;31mAttributeError\u001b[0m                            Traceback (most recent call last)",
      "\u001b[0;32m/var/tmp/ipykernel_19934/100488191.py\u001b[0m in \u001b[0;36m<module>\u001b[0;34m\u001b[0m\n\u001b[0;32m----> 1\u001b[0;31m \u001b[0muser_items\u001b[0m\u001b[0;34m.\u001b[0m\u001b[0mtocsr\u001b[0m\u001b[0;34m(\u001b[0m\u001b[0;34m)\u001b[0m\u001b[0;34m\u001b[0m\u001b[0;34m\u001b[0m\u001b[0m\n\u001b[0m",
      "\u001b[0;31mAttributeError\u001b[0m: 'numpy.ndarray' object has no attribute 'tocsr'"
     ]
    }
   ],
   "source": [
    "user_items.tocsr()"
   ]
  },
  {
   "cell_type": "code",
   "execution_count": 28,
   "id": "5ff04b13-b53f-493e-ad2d-3815b076d1b1",
   "metadata": {},
   "outputs": [],
   "source": [
    "import scipy.sparse as sp"
   ]
  },
  {
   "cell_type": "code",
   "execution_count": 29,
   "id": "2c1f8781-d685-442d-8c72-75f9eeaff807",
   "metadata": {},
   "outputs": [],
   "source": [
    "sparse_user_items = sp.csr_matrix(user_items)"
   ]
  },
  {
   "cell_type": "code",
   "execution_count": 31,
   "id": "bd6e5f05-3f5e-4bf7-a2e8-909a3a3dd508",
   "metadata": {},
   "outputs": [
    {
     "data": {
      "text/plain": [
       "700722.0"
      ]
     },
     "execution_count": 31,
     "metadata": {},
     "output_type": "execute_result"
    }
   ],
   "source": [
    "sparse_user_items.sum()"
   ]
  },
  {
   "cell_type": "code",
   "execution_count": 32,
   "id": "87ca83da-6e86-4807-88dd-3fe1faf9150e",
   "metadata": {},
   "outputs": [],
   "source": [
    "import implicit"
   ]
  },
  {
   "cell_type": "code",
   "execution_count": 54,
   "id": "f06979aa-9f77-495e-8bad-1983f96950ef",
   "metadata": {},
   "outputs": [],
   "source": [
    "model = implicit.als.AlternatingLeastSquares(factors=50)"
   ]
  },
  {
   "cell_type": "code",
   "execution_count": 55,
   "id": "f4cff93d-7045-4e76-a56f-2dd993c869fc",
   "metadata": {},
   "outputs": [
    {
     "data": {
      "application/vnd.jupyter.widget-view+json": {
       "model_id": "2a3c5994c7e8458ab6c12a85eb5f7361",
       "version_major": 2,
       "version_minor": 0
      },
      "text/plain": [
       "  0%|          | 0/15 [00:00<?, ?it/s]"
      ]
     },
     "metadata": {},
     "output_type": "display_data"
    }
   ],
   "source": [
    "model.fit(sparse_user_items)"
   ]
  },
  {
   "cell_type": "code",
   "execution_count": 64,
   "id": "4eeec51a-071c-4ef9-845b-b08aa42ecaf4",
   "metadata": {},
   "outputs": [],
   "source": [
    "recommendations = model.recommend(np.arange(len(clients_names)), sparse_user_items)"
   ]
  },
  {
   "cell_type": "code",
   "execution_count": 72,
   "id": "c999bd09-f219-434c-984b-8882a9cd0ddf",
   "metadata": {},
   "outputs": [],
   "source": [
    "final_recommendations = []\n",
    "\n",
    "for i, name in enumerate(clients_names):\n",
    "    final_recommendations.append([name, goods_names[recommendations[0][i, 0]], recommendations[1][i, 0]])"
   ]
  },
  {
   "cell_type": "code",
   "execution_count": 73,
   "id": "993c0245-98a4-4b87-ba35-1546ec53311c",
   "metadata": {},
   "outputs": [],
   "source": [
    "final_recommendations = pd.DataFrame(final_recommendations, columns=['Клиент', 'Группа4', 'Score'])"
   ]
  },
  {
   "cell_type": "code",
   "execution_count": 76,
   "id": "c3b66395-234e-4bd5-9ddd-6806f2ad552e",
   "metadata": {},
   "outputs": [],
   "source": [
    "final_recommendations.sort_values(['Score'], ascending=False).to_excel('next_best_offer.xlsx', index=None)"
   ]
  },
  {
   "cell_type": "code",
   "execution_count": null,
   "id": "07dc2a7f-2e2a-42b0-be0f-2514c5cb64df",
   "metadata": {},
   "outputs": [],
   "source": []
  }
 ],
 "metadata": {
  "kernelspec": {
   "display_name": "Python 3",
   "language": "python",
   "name": "python3"
  },
  "language_info": {
   "codemirror_mode": {
    "name": "ipython",
    "version": 3
   },
   "file_extension": ".py",
   "mimetype": "text/x-python",
   "name": "python",
   "nbconvert_exporter": "python",
   "pygments_lexer": "ipython3",
   "version": "3.8.12"
  }
 },
 "nbformat": 4,
 "nbformat_minor": 5
}
